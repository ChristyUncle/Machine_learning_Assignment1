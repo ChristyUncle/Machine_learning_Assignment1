{
  "cells": [
    {
      "cell_type": "markdown",
      "metadata": {
        "id": "view-in-github",
        "colab_type": "text"
      },
      "source": [
        "<a href=\"https://colab.research.google.com/github/ChristyUncle/Machine_learning_Assignment1/blob/main/ML4F_2023_Assignment_1.ipynb\" target=\"_parent\"><img src=\"https://colab.research.google.com/assets/colab-badge.svg\" alt=\"Open In Colab\"/></a>"
      ]
    },
    {
      "cell_type": "markdown",
      "metadata": {
        "id": "-FF0n-VUpME8"
      },
      "source": [
        "# Assignment 1 -- ML4F 2023\n",
        "\n",
        "## Instructions\n",
        "* This assignment covers the material discussed in Lectures ML1 - ML4.\n",
        "* Each group submits _only one_ notebook via canvas on the assignment page.\n",
        "* The notebook should be named `assignment1_groupXX.ipynb` where `XX` is your group number,  \n",
        "e.g. for group 3 this will be `assignment1_group03.ipynb`.\n",
        "* The notebook should run without raising any errors.\n",
        "* We recommend keeping the folder structure\n",
        "```\n",
        "assignment/\n",
        "    data/\n",
        "    lib/\n",
        "    assignment1_groupXX.ipynb\n",
        "```\n",
        "* We strongly recommend git, as you are encouraged to collaborate and split up the work and maybe even start independently. To see how to set up your own repo for your group, see `VU Workshop Introduction to Version Control with GIT.pptx` discussed in week 2.\n",
        "* Do not spend time on optimizing the speed of your code. However, if it runs for more than 5 minutes, we will terminate it.\n",
        "* We strongly encourage you to experiment, try different approaches and combinations and get to know the problem from alternative angles. But the final notebook should only contain the necessary results for grading.\n",
        "----\n",
        "\n",
        "<div style=\"font-size:24px; text-align:center; font-weight:bold\">Good luck!</div>\n",
        "\n",
        "----"
      ]
    },
    {
      "cell_type": "markdown",
      "metadata": {
        "id": "WszVQtaGpME_"
      },
      "source": [
        "# Assignment 1 - Features & Algorithms\n",
        "\n",
        "Kiwibank, a commercial bank from New Zealand, is interested in updating their loan default prediction algorithm. They used to check each client manually, and now they want to use Machine Learning to predict who will default on their loan and pose a threat to the bank's balance sheet. They have supplied you with a dataset of their past clients, and they've asked you to consult them on their adaptation of Machine Learning in this process.\n",
        "\n",
        "First take a look at the data, then test different algorithms, select key features and write a recommendation to the bank.\n",
        "\n",
        "State your imports below."
      ]
    },
    {
      "cell_type": "code",
      "execution_count": 6,
      "metadata": {
        "id": "kbP3kik5pMFA"
      },
      "outputs": [],
      "source": [
        "import os\n",
        "import pandas as pd\n",
        "import numpy as np\n",
        "import matplotlib.pyplot as plt\n",
        "import sklearn as sk"
      ]
    },
    {
      "cell_type": "code",
      "source": [
        "%cd /content/drive/MyDrive/Github/"
      ],
      "metadata": {
        "colab": {
          "base_uri": "https://localhost:8080/"
        },
        "id": "GHr3e3bPtemv",
        "outputId": "aec995f9-6931-46ab-b757-ce78bac0e9ef"
      },
      "execution_count": 7,
      "outputs": [
        {
          "output_type": "stream",
          "name": "stdout",
          "text": [
            "[Errno 2] No such file or directory: '/content/drive/MyDrive/Github/'\n",
            "/content\n"
          ]
        }
      ]
    },
    {
      "cell_type": "code",
      "source": [
        "data = pd.read_csv(\"/content/7_ML4F_Assignment1Data.csv\")"
      ],
      "metadata": {
        "id": "WOB57yOYqfji"
      },
      "execution_count": 4,
      "outputs": []
    },
    {
      "cell_type": "markdown",
      "metadata": {
        "id": "KHVZFWJGpMFA"
      },
      "source": [
        "# Preprocessing (15 points)\n",
        "*5 points for correct code*\n",
        "\n",
        "*10 points for normalization procedure*\n",
        "\n",
        "The data consists of 34 features and one target variable, 'Loan Status'\n",
        "We have 25 numerical features and 9 categorical features. For the numerical features, apply a technique\n",
        "to make the data more normal. This can be Standardization, Normalization, log or a Box-Cox transformation.\n",
        "Explain why you might use one method for some features, and another for other features.\n",
        "Also check for missing values and uninformative features (NO FEATURE SELECTION YET)."
      ]
    },
    {
      "cell_type": "code",
      "execution_count": null,
      "metadata": {
        "id": "xGvJok6vpMFB"
      },
      "outputs": [],
      "source": []
    },
    {
      "cell_type": "markdown",
      "metadata": {
        "id": "ndMR32jOpMFB"
      },
      "source": []
    },
    {
      "cell_type": "markdown",
      "metadata": {
        "id": "wK0jLLDipMFB"
      },
      "source": [
        "# Training (30 points)\n",
        "*10 points for correct code*\n",
        "\n",
        "*10 points for interpretation results*\n",
        "\n",
        "*10 points for pitfalls*\n",
        "\n",
        "We've familiarized ourselves with the data, so now we're going to train some models.\n",
        "A handful of frequently used models are: Decision Trees (DTC), Nearest Neighbors (KNN) and\n",
        "Stochastic Gradient Descent learning algorithm (SGD).\n",
        "Split the data into a training set and a test set, and train all mentioned models on the data.\n",
        "For KNN, find the optimal number of neighbors.\n",
        "Use the test set to get the predicted values. Show the performance of the different models in a Confusion Matrix and compare the accuracy, precision, recall and F1-score.\n",
        "\n",
        "When looking at the resulting measures and matrices, what stands out? What possible pitfalls may be hiding in each of the models?"
      ]
    },
    {
      "cell_type": "code",
      "execution_count": null,
      "metadata": {
        "id": "YQEFsZszpMFB"
      },
      "outputs": [],
      "source": []
    },
    {
      "cell_type": "markdown",
      "metadata": {
        "id": "C1GKzsqEpMFC"
      },
      "source": []
    },
    {
      "cell_type": "markdown",
      "metadata": {
        "id": "7jF7HaDGpMFC"
      },
      "source": [
        "# Feature Selection (35 points)\n",
        "*10 points for correct code*\n",
        "\n",
        "*15 points for correct reasoning and interpretation*\n",
        "\n",
        "*10 points for explanation pitfalls*\n",
        "\n",
        "Now that we've compared the performance of the different models, we place our judgement upon\n",
        "the dimensionality of the data. The dimension reduction methods discussed so far are\n",
        "L2 regularization and LASSO. Combining these methods gives us the Elastic Net method. What are some pitfalls of L2 regularization and of LASSO? How does Elastic Net overcome these pitfalls?\n",
        "\n",
        "The Elastic Net method uses two parameters, l1_ratio and α. l1_ratio takes on a value between 0 and 1, and α a value higher than 0. Use the Elastic Net method to get an impression of the importance of the features, and make\n",
        "an appropriate and argumented decision regarding their individual inclusion."
      ]
    },
    {
      "cell_type": "code",
      "execution_count": null,
      "metadata": {
        "id": "gxpQoiQ2pMFE"
      },
      "outputs": [],
      "source": []
    },
    {
      "cell_type": "markdown",
      "metadata": {
        "id": "pj3d_-5ipMFF"
      },
      "source": []
    },
    {
      "cell_type": "markdown",
      "metadata": {
        "id": "3PZFYfjRpMFF"
      },
      "source": [
        "# Recommendation (10 points)\n",
        "*10 points for paper*\n",
        "\n",
        "Now that you've made an assessment of the key features and it is clear which model performs best, it is time to write a recommendation to Kiwibank. Explain what you have researched and present your results in a short paper in no more than 400 words.\n",
        "\n",
        "Focus on the bank's wants and needs, and minimize the technical talk. We recommend writing in LaTeX/Overleaf, but Word or another application is also fine. Hand the paper in as PDF, together with your Jupyter Notebook, in a ZIP-file."
      ]
    },
    {
      "cell_type": "code",
      "execution_count": null,
      "metadata": {
        "id": "o1QwZzPJpMFF"
      },
      "outputs": [],
      "source": []
    }
  ],
  "metadata": {
    "kernelspec": {
      "display_name": "Python 3",
      "language": "python",
      "name": "python3"
    },
    "language_info": {
      "codemirror_mode": {
        "name": "ipython",
        "version": 3
      },
      "file_extension": ".py",
      "mimetype": "text/x-python",
      "name": "python",
      "nbconvert_exporter": "python",
      "pygments_lexer": "ipython3",
      "version": "3.7.3"
    },
    "colab": {
      "provenance": [],
      "include_colab_link": true
    }
  },
  "nbformat": 4,
  "nbformat_minor": 0
}